{
 "cells": [
  {
   "cell_type": "code",
   "execution_count": 1,
   "metadata": {},
   "outputs": [],
   "source": [
    "import pandas as pd"
   ]
  },
  {
   "cell_type": "markdown",
   "metadata": {},
   "source": [
    "Read in data and take a quick look at the data."
   ]
  },
  {
   "cell_type": "code",
   "execution_count": 18,
   "metadata": {},
   "outputs": [
    {
     "data": {
      "text/plain": [
       "(2543196, 4)"
      ]
     },
     "execution_count": 18,
     "metadata": {},
     "output_type": "execute_result"
    }
   ],
   "source": [
    "net = pd.read_csv(\"conceptnet-assertions-5.7.0-en.csv\")\n",
    "net.shape "
   ]
  },
  {
   "cell_type": "code",
   "execution_count": 19,
   "metadata": {},
   "outputs": [
    {
     "data": {
      "text/html": [
       "<div>\n",
       "<style scoped>\n",
       "    .dataframe tbody tr th:only-of-type {\n",
       "        vertical-align: middle;\n",
       "    }\n",
       "\n",
       "    .dataframe tbody tr th {\n",
       "        vertical-align: top;\n",
       "    }\n",
       "\n",
       "    .dataframe thead th {\n",
       "        text-align: right;\n",
       "    }\n",
       "</style>\n",
       "<table border=\"1\" class=\"dataframe\">\n",
       "  <thead>\n",
       "    <tr style=\"text-align: right;\">\n",
       "      <th></th>\n",
       "      <th>relation</th>\n",
       "      <th>start</th>\n",
       "      <th>end</th>\n",
       "      <th>weight</th>\n",
       "    </tr>\n",
       "  </thead>\n",
       "  <tbody>\n",
       "    <tr>\n",
       "      <th>0</th>\n",
       "      <td>antonym</td>\n",
       "      <td>ab_extra</td>\n",
       "      <td>ab_intra</td>\n",
       "      <td>1.0</td>\n",
       "    </tr>\n",
       "    <tr>\n",
       "      <th>1</th>\n",
       "      <td>antonym</td>\n",
       "      <td>ab_intra</td>\n",
       "      <td>ab_extra</td>\n",
       "      <td>1.0</td>\n",
       "    </tr>\n",
       "    <tr>\n",
       "      <th>2</th>\n",
       "      <td>antonym</td>\n",
       "      <td>abactinal</td>\n",
       "      <td>actinal</td>\n",
       "      <td>1.0</td>\n",
       "    </tr>\n",
       "    <tr>\n",
       "      <th>3</th>\n",
       "      <td>antonym</td>\n",
       "      <td>abandonment</td>\n",
       "      <td>acquisition</td>\n",
       "      <td>1.0</td>\n",
       "    </tr>\n",
       "    <tr>\n",
       "      <th>4</th>\n",
       "      <td>antonym</td>\n",
       "      <td>abapical</td>\n",
       "      <td>apical</td>\n",
       "      <td>1.0</td>\n",
       "    </tr>\n",
       "  </tbody>\n",
       "</table>\n",
       "</div>"
      ],
      "text/plain": [
       "  relation        start          end  weight\n",
       "0  antonym     ab_extra     ab_intra     1.0\n",
       "1  antonym     ab_intra     ab_extra     1.0\n",
       "2  antonym    abactinal      actinal     1.0\n",
       "3  antonym  abandonment  acquisition     1.0\n",
       "4  antonym     abapical       apical     1.0"
      ]
     },
     "execution_count": 19,
     "metadata": {},
     "output_type": "execute_result"
    }
   ],
   "source": [
    "net.head()"
   ]
  },
  {
   "cell_type": "markdown",
   "metadata": {},
   "source": [
    "data cleaning 1: fill NA"
   ]
  },
  {
   "cell_type": "code",
   "execution_count": 20,
   "metadata": {},
   "outputs": [
    {
     "data": {
      "text/html": [
       "<div>\n",
       "<style scoped>\n",
       "    .dataframe tbody tr th:only-of-type {\n",
       "        vertical-align: middle;\n",
       "    }\n",
       "\n",
       "    .dataframe tbody tr th {\n",
       "        vertical-align: top;\n",
       "    }\n",
       "\n",
       "    .dataframe thead th {\n",
       "        text-align: right;\n",
       "    }\n",
       "</style>\n",
       "<table border=\"1\" class=\"dataframe\">\n",
       "  <thead>\n",
       "    <tr style=\"text-align: right;\">\n",
       "      <th></th>\n",
       "      <th>relation</th>\n",
       "      <th>start</th>\n",
       "      <th>end</th>\n",
       "      <th>weight</th>\n",
       "    </tr>\n",
       "  </thead>\n",
       "  <tbody>\n",
       "    <tr>\n",
       "      <th>11532</th>\n",
       "      <td>antonym</td>\n",
       "      <td>NaN</td>\n",
       "      <td>antinull</td>\n",
       "      <td>1.000</td>\n",
       "    </tr>\n",
       "    <tr>\n",
       "      <th>11533</th>\n",
       "      <td>antonym</td>\n",
       "      <td>NaN</td>\n",
       "      <td>non_null</td>\n",
       "      <td>1.000</td>\n",
       "    </tr>\n",
       "    <tr>\n",
       "      <th>229345</th>\n",
       "      <td>hascontext</td>\n",
       "      <td>NaN</td>\n",
       "      <td>computing</td>\n",
       "      <td>1.000</td>\n",
       "    </tr>\n",
       "    <tr>\n",
       "      <th>235214</th>\n",
       "      <td>hascontext</td>\n",
       "      <td>NaN</td>\n",
       "      <td>genetics</td>\n",
       "      <td>1.000</td>\n",
       "    </tr>\n",
       "    <tr>\n",
       "      <th>235215</th>\n",
       "      <td>hascontext</td>\n",
       "      <td>NaN</td>\n",
       "      <td>mathematics</td>\n",
       "      <td>1.000</td>\n",
       "    </tr>\n",
       "    <tr>\n",
       "      <th>235217</th>\n",
       "      <td>hascontext</td>\n",
       "      <td>NaN</td>\n",
       "      <td>computing</td>\n",
       "      <td>1.000</td>\n",
       "    </tr>\n",
       "    <tr>\n",
       "      <th>235218</th>\n",
       "      <td>hascontext</td>\n",
       "      <td>NaN</td>\n",
       "      <td>statistics</td>\n",
       "      <td>1.000</td>\n",
       "    </tr>\n",
       "    <tr>\n",
       "      <th>515769</th>\n",
       "      <td>isa</td>\n",
       "      <td>NaN</td>\n",
       "      <td>flatbread</td>\n",
       "      <td>1.000</td>\n",
       "    </tr>\n",
       "    <tr>\n",
       "      <th>653722</th>\n",
       "      <td>relatedto</td>\n",
       "      <td>absent_referent</td>\n",
       "      <td>NaN</td>\n",
       "      <td>1.000</td>\n",
       "    </tr>\n",
       "    <tr>\n",
       "      <th>693496</th>\n",
       "      <td>relatedto</td>\n",
       "      <td>ambitwistor</td>\n",
       "      <td>NaN</td>\n",
       "      <td>1.000</td>\n",
       "    </tr>\n",
       "    <tr>\n",
       "      <th>706246</th>\n",
       "      <td>relatedto</td>\n",
       "      <td>annihilate</td>\n",
       "      <td>NaN</td>\n",
       "      <td>1.000</td>\n",
       "    </tr>\n",
       "    <tr>\n",
       "      <th>853941</th>\n",
       "      <td>relatedto</td>\n",
       "      <td>c_style_string</td>\n",
       "      <td>NaN</td>\n",
       "      <td>1.000</td>\n",
       "    </tr>\n",
       "    <tr>\n",
       "      <th>934070</th>\n",
       "      <td>relatedto</td>\n",
       "      <td>code_cave</td>\n",
       "      <td>NaN</td>\n",
       "      <td>1.000</td>\n",
       "    </tr>\n",
       "    <tr>\n",
       "      <th>961694</th>\n",
       "      <td>relatedto</td>\n",
       "      <td>conull</td>\n",
       "      <td>NaN</td>\n",
       "      <td>1.000</td>\n",
       "    </tr>\n",
       "    <tr>\n",
       "      <th>1112498</th>\n",
       "      <td>relatedto</td>\n",
       "      <td>empty</td>\n",
       "      <td>NaN</td>\n",
       "      <td>1.000</td>\n",
       "    </tr>\n",
       "    <tr>\n",
       "      <th>1210057</th>\n",
       "      <td>relatedto</td>\n",
       "      <td>frustratory</td>\n",
       "      <td>NaN</td>\n",
       "      <td>1.000</td>\n",
       "    </tr>\n",
       "    <tr>\n",
       "      <th>1218775</th>\n",
       "      <td>relatedto</td>\n",
       "      <td>galvanometer</td>\n",
       "      <td>NaN</td>\n",
       "      <td>1.000</td>\n",
       "    </tr>\n",
       "    <tr>\n",
       "      <th>1511775</th>\n",
       "      <td>relatedto</td>\n",
       "      <td>memberless</td>\n",
       "      <td>NaN</td>\n",
       "      <td>1.000</td>\n",
       "    </tr>\n",
       "    <tr>\n",
       "      <th>1577997</th>\n",
       "      <td>relatedto</td>\n",
       "      <td>NaN</td>\n",
       "      <td>numeric</td>\n",
       "      <td>1.000</td>\n",
       "    </tr>\n",
       "    <tr>\n",
       "      <th>1577998</th>\n",
       "      <td>relatedto</td>\n",
       "      <td>NaN</td>\n",
       "      <td>value</td>\n",
       "      <td>1.000</td>\n",
       "    </tr>\n",
       "    <tr>\n",
       "      <th>1579889</th>\n",
       "      <td>relatedto</td>\n",
       "      <td>nans</td>\n",
       "      <td>NaN</td>\n",
       "      <td>2.000</td>\n",
       "    </tr>\n",
       "    <tr>\n",
       "      <th>1600831</th>\n",
       "      <td>relatedto</td>\n",
       "      <td>nil</td>\n",
       "      <td>NaN</td>\n",
       "      <td>1.000</td>\n",
       "    </tr>\n",
       "    <tr>\n",
       "      <th>1610038</th>\n",
       "      <td>relatedto</td>\n",
       "      <td>none</td>\n",
       "      <td>NaN</td>\n",
       "      <td>0.127</td>\n",
       "    </tr>\n",
       "    <tr>\n",
       "      <th>1613271</th>\n",
       "      <td>relatedto</td>\n",
       "      <td>nonnull</td>\n",
       "      <td>NaN</td>\n",
       "      <td>1.000</td>\n",
       "    </tr>\n",
       "    <tr>\n",
       "      <th>1622246</th>\n",
       "      <td>relatedto</td>\n",
       "      <td>nothing</td>\n",
       "      <td>NaN</td>\n",
       "      <td>0.263</td>\n",
       "    </tr>\n",
       "    <tr>\n",
       "      <th>1624990</th>\n",
       "      <td>relatedto</td>\n",
       "      <td>NaN</td>\n",
       "      <td>annul</td>\n",
       "      <td>1.000</td>\n",
       "    </tr>\n",
       "    <tr>\n",
       "      <th>1624991</th>\n",
       "      <td>relatedto</td>\n",
       "      <td>NaN</td>\n",
       "      <td>nil</td>\n",
       "      <td>1.000</td>\n",
       "    </tr>\n",
       "    <tr>\n",
       "      <th>1624992</th>\n",
       "      <td>relatedto</td>\n",
       "      <td>NaN</td>\n",
       "      <td>nulled_work</td>\n",
       "      <td>1.000</td>\n",
       "    </tr>\n",
       "    <tr>\n",
       "      <th>1624993</th>\n",
       "      <td>relatedto</td>\n",
       "      <td>NaN</td>\n",
       "      <td>absent</td>\n",
       "      <td>1.000</td>\n",
       "    </tr>\n",
       "    <tr>\n",
       "      <th>1624994</th>\n",
       "      <td>relatedto</td>\n",
       "      <td>NaN</td>\n",
       "      <td>amorphic</td>\n",
       "      <td>1.000</td>\n",
       "    </tr>\n",
       "    <tr>\n",
       "      <th>...</th>\n",
       "      <td>...</td>\n",
       "      <td>...</td>\n",
       "      <td>...</td>\n",
       "      <td>...</td>\n",
       "    </tr>\n",
       "    <tr>\n",
       "      <th>1625014</th>\n",
       "      <td>relatedto</td>\n",
       "      <td>NaN</td>\n",
       "      <td>unicode</td>\n",
       "      <td>1.000</td>\n",
       "    </tr>\n",
       "    <tr>\n",
       "      <th>1625015</th>\n",
       "      <td>relatedto</td>\n",
       "      <td>NaN</td>\n",
       "      <td>valid</td>\n",
       "      <td>1.000</td>\n",
       "    </tr>\n",
       "    <tr>\n",
       "      <th>1625016</th>\n",
       "      <td>relatedto</td>\n",
       "      <td>NaN</td>\n",
       "      <td>value</td>\n",
       "      <td>1.000</td>\n",
       "    </tr>\n",
       "    <tr>\n",
       "      <th>1625017</th>\n",
       "      <td>relatedto</td>\n",
       "      <td>NaN</td>\n",
       "      <td>zero</td>\n",
       "      <td>1.000</td>\n",
       "    </tr>\n",
       "    <tr>\n",
       "      <th>1625018</th>\n",
       "      <td>relatedto</td>\n",
       "      <td>NaN</td>\n",
       "      <td>annul</td>\n",
       "      <td>1.000</td>\n",
       "    </tr>\n",
       "    <tr>\n",
       "      <th>1625019</th>\n",
       "      <td>relatedto</td>\n",
       "      <td>NaN</td>\n",
       "      <td>lathe</td>\n",
       "      <td>1.000</td>\n",
       "    </tr>\n",
       "    <tr>\n",
       "      <th>1625020</th>\n",
       "      <td>relatedto</td>\n",
       "      <td>NaN</td>\n",
       "      <td>nullify</td>\n",
       "      <td>1.000</td>\n",
       "    </tr>\n",
       "    <tr>\n",
       "      <th>1625089</th>\n",
       "      <td>relatedto</td>\n",
       "      <td>nullable</td>\n",
       "      <td>NaN</td>\n",
       "      <td>2.000</td>\n",
       "    </tr>\n",
       "    <tr>\n",
       "      <th>1625093</th>\n",
       "      <td>relatedto</td>\n",
       "      <td>nullable</td>\n",
       "      <td>NaN</td>\n",
       "      <td>1.000</td>\n",
       "    </tr>\n",
       "    <tr>\n",
       "      <th>1625121</th>\n",
       "      <td>relatedto</td>\n",
       "      <td>nulled</td>\n",
       "      <td>NaN</td>\n",
       "      <td>1.000</td>\n",
       "    </tr>\n",
       "    <tr>\n",
       "      <th>1625127</th>\n",
       "      <td>relatedto</td>\n",
       "      <td>nullest</td>\n",
       "      <td>NaN</td>\n",
       "      <td>1.000</td>\n",
       "    </tr>\n",
       "    <tr>\n",
       "      <th>1625128</th>\n",
       "      <td>relatedto</td>\n",
       "      <td>nulleth</td>\n",
       "      <td>NaN</td>\n",
       "      <td>1.000</td>\n",
       "    </tr>\n",
       "    <tr>\n",
       "      <th>1625146</th>\n",
       "      <td>relatedto</td>\n",
       "      <td>nullified</td>\n",
       "      <td>NaN</td>\n",
       "      <td>1.000</td>\n",
       "    </tr>\n",
       "    <tr>\n",
       "      <th>1625152</th>\n",
       "      <td>relatedto</td>\n",
       "      <td>nullify</td>\n",
       "      <td>NaN</td>\n",
       "      <td>1.000</td>\n",
       "    </tr>\n",
       "    <tr>\n",
       "      <th>1625162</th>\n",
       "      <td>relatedto</td>\n",
       "      <td>nulling</td>\n",
       "      <td>NaN</td>\n",
       "      <td>1.000</td>\n",
       "    </tr>\n",
       "    <tr>\n",
       "      <th>1625228</th>\n",
       "      <td>relatedto</td>\n",
       "      <td>nullness</td>\n",
       "      <td>NaN</td>\n",
       "      <td>1.000</td>\n",
       "    </tr>\n",
       "    <tr>\n",
       "      <th>1625236</th>\n",
       "      <td>relatedto</td>\n",
       "      <td>nulls</td>\n",
       "      <td>NaN</td>\n",
       "      <td>1.000</td>\n",
       "    </tr>\n",
       "    <tr>\n",
       "      <th>1625237</th>\n",
       "      <td>relatedto</td>\n",
       "      <td>nulls</td>\n",
       "      <td>NaN</td>\n",
       "      <td>1.000</td>\n",
       "    </tr>\n",
       "    <tr>\n",
       "      <th>1625243</th>\n",
       "      <td>relatedto</td>\n",
       "      <td>nullsurface</td>\n",
       "      <td>NaN</td>\n",
       "      <td>1.000</td>\n",
       "    </tr>\n",
       "    <tr>\n",
       "      <th>1747890</th>\n",
       "      <td>relatedto</td>\n",
       "      <td>point</td>\n",
       "      <td>NaN</td>\n",
       "      <td>0.104</td>\n",
       "    </tr>\n",
       "    <tr>\n",
       "      <th>1797812</th>\n",
       "      <td>relatedto</td>\n",
       "      <td>pseudonull</td>\n",
       "      <td>NaN</td>\n",
       "      <td>1.000</td>\n",
       "    </tr>\n",
       "    <tr>\n",
       "      <th>1815991</th>\n",
       "      <td>relatedto</td>\n",
       "      <td>queer</td>\n",
       "      <td>NaN</td>\n",
       "      <td>1.000</td>\n",
       "    </tr>\n",
       "    <tr>\n",
       "      <th>1891052</th>\n",
       "      <td>relatedto</td>\n",
       "      <td>safe_navigation_operator</td>\n",
       "      <td>NaN</td>\n",
       "      <td>1.000</td>\n",
       "    </tr>\n",
       "    <tr>\n",
       "      <th>2254444</th>\n",
       "      <td>relatedto</td>\n",
       "      <td>zero</td>\n",
       "      <td>NaN</td>\n",
       "      <td>0.253</td>\n",
       "    </tr>\n",
       "    <tr>\n",
       "      <th>2254806</th>\n",
       "      <td>relatedto</td>\n",
       "      <td>zeroth</td>\n",
       "      <td>NaN</td>\n",
       "      <td>1.000</td>\n",
       "    </tr>\n",
       "    <tr>\n",
       "      <th>2374883</th>\n",
       "      <td>relatedto</td>\n",
       "      <td>grandma</td>\n",
       "      <td>NaN</td>\n",
       "      <td>1.000</td>\n",
       "    </tr>\n",
       "    <tr>\n",
       "      <th>2417730</th>\n",
       "      <td>relatedto</td>\n",
       "      <td>NaN</td>\n",
       "      <td>NaN</td>\n",
       "      <td>0.500</td>\n",
       "    </tr>\n",
       "    <tr>\n",
       "      <th>2420385</th>\n",
       "      <td>relatedto</td>\n",
       "      <td>nin</td>\n",
       "      <td>NaN</td>\n",
       "      <td>1.000</td>\n",
       "    </tr>\n",
       "    <tr>\n",
       "      <th>2422491</th>\n",
       "      <td>relatedto</td>\n",
       "      <td>NaN</td>\n",
       "      <td>null_and_void</td>\n",
       "      <td>1.000</td>\n",
       "    </tr>\n",
       "    <tr>\n",
       "      <th>2503142</th>\n",
       "      <td>relatedto</td>\n",
       "      <td>zero</td>\n",
       "      <td>NaN</td>\n",
       "      <td>1.000</td>\n",
       "    </tr>\n",
       "  </tbody>\n",
       "</table>\n",
       "<p>79 rows × 4 columns</p>\n",
       "</div>"
      ],
      "text/plain": [
       "           relation                     start            end  weight\n",
       "11532       antonym                       NaN       antinull   1.000\n",
       "11533       antonym                       NaN       non_null   1.000\n",
       "229345   hascontext                       NaN      computing   1.000\n",
       "235214   hascontext                       NaN       genetics   1.000\n",
       "235215   hascontext                       NaN    mathematics   1.000\n",
       "235217   hascontext                       NaN      computing   1.000\n",
       "235218   hascontext                       NaN     statistics   1.000\n",
       "515769          isa                       NaN      flatbread   1.000\n",
       "653722    relatedto           absent_referent            NaN   1.000\n",
       "693496    relatedto               ambitwistor            NaN   1.000\n",
       "706246    relatedto                annihilate            NaN   1.000\n",
       "853941    relatedto            c_style_string            NaN   1.000\n",
       "934070    relatedto                 code_cave            NaN   1.000\n",
       "961694    relatedto                    conull            NaN   1.000\n",
       "1112498   relatedto                     empty            NaN   1.000\n",
       "1210057   relatedto               frustratory            NaN   1.000\n",
       "1218775   relatedto              galvanometer            NaN   1.000\n",
       "1511775   relatedto                memberless            NaN   1.000\n",
       "1577997   relatedto                       NaN        numeric   1.000\n",
       "1577998   relatedto                       NaN          value   1.000\n",
       "1579889   relatedto                      nans            NaN   2.000\n",
       "1600831   relatedto                       nil            NaN   1.000\n",
       "1610038   relatedto                      none            NaN   0.127\n",
       "1613271   relatedto                   nonnull            NaN   1.000\n",
       "1622246   relatedto                   nothing            NaN   0.263\n",
       "1624990   relatedto                       NaN          annul   1.000\n",
       "1624991   relatedto                       NaN            nil   1.000\n",
       "1624992   relatedto                       NaN    nulled_work   1.000\n",
       "1624993   relatedto                       NaN         absent   1.000\n",
       "1624994   relatedto                       NaN       amorphic   1.000\n",
       "...             ...                       ...            ...     ...\n",
       "1625014   relatedto                       NaN        unicode   1.000\n",
       "1625015   relatedto                       NaN          valid   1.000\n",
       "1625016   relatedto                       NaN          value   1.000\n",
       "1625017   relatedto                       NaN           zero   1.000\n",
       "1625018   relatedto                       NaN          annul   1.000\n",
       "1625019   relatedto                       NaN          lathe   1.000\n",
       "1625020   relatedto                       NaN        nullify   1.000\n",
       "1625089   relatedto                  nullable            NaN   2.000\n",
       "1625093   relatedto                  nullable            NaN   1.000\n",
       "1625121   relatedto                    nulled            NaN   1.000\n",
       "1625127   relatedto                   nullest            NaN   1.000\n",
       "1625128   relatedto                   nulleth            NaN   1.000\n",
       "1625146   relatedto                 nullified            NaN   1.000\n",
       "1625152   relatedto                   nullify            NaN   1.000\n",
       "1625162   relatedto                   nulling            NaN   1.000\n",
       "1625228   relatedto                  nullness            NaN   1.000\n",
       "1625236   relatedto                     nulls            NaN   1.000\n",
       "1625237   relatedto                     nulls            NaN   1.000\n",
       "1625243   relatedto               nullsurface            NaN   1.000\n",
       "1747890   relatedto                     point            NaN   0.104\n",
       "1797812   relatedto                pseudonull            NaN   1.000\n",
       "1815991   relatedto                     queer            NaN   1.000\n",
       "1891052   relatedto  safe_navigation_operator            NaN   1.000\n",
       "2254444   relatedto                      zero            NaN   0.253\n",
       "2254806   relatedto                    zeroth            NaN   1.000\n",
       "2374883   relatedto                   grandma            NaN   1.000\n",
       "2417730   relatedto                       NaN            NaN   0.500\n",
       "2420385   relatedto                       nin            NaN   1.000\n",
       "2422491   relatedto                       NaN  null_and_void   1.000\n",
       "2503142   relatedto                      zero            NaN   1.000\n",
       "\n",
       "[79 rows x 4 columns]"
      ]
     },
     "execution_count": 20,
     "metadata": {},
     "output_type": "execute_result"
    }
   ],
   "source": [
    "net[net.isnull().T.any().T] # rows with NaN values"
   ]
  },
  {
   "cell_type": "markdown",
   "metadata": {},
   "source": [
    "It seems that the original csv treats \"null\" as NaN."
   ]
  },
  {
   "cell_type": "code",
   "execution_count": 22,
   "metadata": {},
   "outputs": [],
   "source": [
    "net = net.fillna('null')"
   ]
  },
  {
   "cell_type": "markdown",
   "metadata": {},
   "source": [
    "data cleaning 2: drop duplicates"
   ]
  },
  {
   "cell_type": "code",
   "execution_count": 97,
   "metadata": {},
   "outputs": [],
   "source": [
    "net.drop_duplicates(subset = ['relation', 'start', 'end'], inplace = True)"
   ]
  },
  {
   "cell_type": "code",
   "execution_count": 98,
   "metadata": {},
   "outputs": [
    {
     "data": {
      "text/plain": [
       "(2273085, 4)"
      ]
     },
     "execution_count": 98,
     "metadata": {},
     "output_type": "execute_result"
    }
   ],
   "source": [
    "net.shape"
   ]
  },
  {
   "cell_type": "markdown",
   "metadata": {},
   "source": [
    "data cleaning 3: remove self-edges"
   ]
  },
  {
   "cell_type": "code",
   "execution_count": 125,
   "metadata": {},
   "outputs": [],
   "source": [
    "net = net.drop(net.loc[net['start'] == net['end']].index)"
   ]
  },
  {
   "cell_type": "code",
   "execution_count": 126,
   "metadata": {},
   "outputs": [
    {
     "data": {
      "text/plain": [
       "(2235061, 4)"
      ]
     },
     "execution_count": 126,
     "metadata": {},
     "output_type": "execute_result"
    }
   ],
   "source": [
    "net.shape"
   ]
  },
  {
   "cell_type": "markdown",
   "metadata": {},
   "source": [
    "count the number of nodes"
   ]
  },
  {
   "cell_type": "code",
   "execution_count": 127,
   "metadata": {},
   "outputs": [
    {
     "data": {
      "text/plain": [
       "585349"
      ]
     },
     "execution_count": 127,
     "metadata": {},
     "output_type": "execute_result"
    }
   ],
   "source": [
    "nodes = set(net['start'])\n",
    "len(nodes)"
   ]
  },
  {
   "cell_type": "code",
   "execution_count": 128,
   "metadata": {},
   "outputs": [
    {
     "data": {
      "text/plain": [
       "['impressor',\n",
       " 'cholesterogenesis',\n",
       " 'right_eleventh_rib',\n",
       " 'choochkie',\n",
       " 'neodiapsida',\n",
       " 'loose_coupling',\n",
       " 'geonastic',\n",
       " 'emblazoned_on_eagle',\n",
       " 'bleated',\n",
       " 'possessive_marker']"
      ]
     },
     "execution_count": 128,
     "metadata": {},
     "output_type": "execute_result"
    }
   ],
   "source": [
    "list(nodes)[:10]"
   ]
  },
  {
   "cell_type": "markdown",
   "metadata": {},
   "source": [
    "We now know that our original ConceptNet has 585349 nodes and 2273085 edges.\n",
    "Let's move on to the next step: we need to split all the phrase concepts."
   ]
  },
  {
   "cell_type": "code",
   "execution_count": 129,
   "metadata": {},
   "outputs": [],
   "source": [
    "phrases = []\n",
    "for n in nodes:\n",
    "    if '_' in n:\n",
    "        phrases.append(n)"
   ]
  },
  {
   "cell_type": "code",
   "execution_count": 130,
   "metadata": {},
   "outputs": [
    {
     "data": {
      "text/plain": [
       "173437"
      ]
     },
     "execution_count": 130,
     "metadata": {},
     "output_type": "execute_result"
    }
   ],
   "source": [
    "len(phrases)"
   ]
  },
  {
   "cell_type": "code",
   "execution_count": 131,
   "metadata": {},
   "outputs": [],
   "source": [
    "phrases.sort(key = lambda x: x.count('_'), reverse = True)"
   ]
  },
  {
   "cell_type": "code",
   "execution_count": 132,
   "metadata": {},
   "outputs": [
    {
     "data": {
      "text/plain": [
       "['it_is_easier_for_camel_to_go_through_eye_of_needle_than_for_rich_man_to_enter_into_kingdom_of_god',\n",
       " 'give_man_fish_and_you_feed_him_for_day_teach_man_to_fish_and_you_feed_him_for_lifetime',\n",
       " 'if_it_looks_like_duck_swims_like_duck_and_quacks_like_duck_then_it_probably_is_duck',\n",
       " 'is_that_gun_in_your_pocket_or_are_you_just_pleased_to_see_me',\n",
       " 'if_you_find_yourself_in_hole_first_thing_to_do_is_stop_digging',\n",
       " 'there_may_be_snow_on_rooftop_but_there_is_fire_in_furnace',\n",
       " 'early_to_bed_early_to_rise_makes_man_healthy_wealthy_and_wise',\n",
       " 'what_does_that_have_to_do_with_price_of_tea_in_china',\n",
       " 'one_hair_of_woman_can_draw_more_than_hundred_pair_of_oxen',\n",
       " 'take_care_of_pennies_and_pounds_will_take_care_of_themselves']"
      ]
     },
     "execution_count": 132,
     "metadata": {},
     "output_type": "execute_result"
    }
   ],
   "source": [
    "phrases[:10]"
   ]
  },
  {
   "cell_type": "code",
   "execution_count": 134,
   "metadata": {},
   "outputs": [
    {
     "data": {
      "text/html": [
       "<div>\n",
       "<style scoped>\n",
       "    .dataframe tbody tr th:only-of-type {\n",
       "        vertical-align: middle;\n",
       "    }\n",
       "\n",
       "    .dataframe tbody tr th {\n",
       "        vertical-align: top;\n",
       "    }\n",
       "\n",
       "    .dataframe thead th {\n",
       "        text-align: right;\n",
       "    }\n",
       "</style>\n",
       "<table border=\"1\" class=\"dataframe\">\n",
       "  <thead>\n",
       "    <tr style=\"text-align: right;\">\n",
       "      <th></th>\n",
       "      <th>relation</th>\n",
       "      <th>start</th>\n",
       "      <th>end</th>\n",
       "      <th>weight</th>\n",
       "    </tr>\n",
       "  </thead>\n",
       "  <tbody>\n",
       "    <tr>\n",
       "      <th>1388347</th>\n",
       "      <td>relatedto</td>\n",
       "      <td>it_is_easier_for_camel_to_go_through_eye_of_ne...</td>\n",
       "      <td>camel_through_eye_of_needle</td>\n",
       "      <td>1.0</td>\n",
       "    </tr>\n",
       "  </tbody>\n",
       "</table>\n",
       "</div>"
      ],
      "text/plain": [
       "          relation                                              start  \\\n",
       "1388347  relatedto  it_is_easier_for_camel_to_go_through_eye_of_ne...   \n",
       "\n",
       "                                 end  weight  \n",
       "1388347  camel_through_eye_of_needle     1.0  "
      ]
     },
     "execution_count": 134,
     "metadata": {},
     "output_type": "execute_result"
    }
   ],
   "source": [
    "net.loc[net['start'] == phrases[0]] # the out neighbor of 'it_is_..._of_god'"
   ]
  },
  {
   "cell_type": "code",
   "execution_count": 135,
   "metadata": {},
   "outputs": [],
   "source": [
    "phrases_count = map(lambda x: x.count('_'), phrases)"
   ]
  },
  {
   "cell_type": "code",
   "execution_count": 136,
   "metadata": {},
   "outputs": [],
   "source": [
    "from collections import Counter"
   ]
  },
  {
   "cell_type": "code",
   "execution_count": 137,
   "metadata": {},
   "outputs": [
    {
     "data": {
      "text/plain": [
       "Counter({20: 1,\n",
       "         18: 1,\n",
       "         16: 1,\n",
       "         13: 1,\n",
       "         12: 1,\n",
       "         11: 4,\n",
       "         10: 6,\n",
       "         9: 13,\n",
       "         8: 29,\n",
       "         7: 44,\n",
       "         6: 136,\n",
       "         5: 641,\n",
       "         4: 2851,\n",
       "         3: 13038,\n",
       "         2: 35919,\n",
       "         1: 120751})"
      ]
     },
     "execution_count": 137,
     "metadata": {},
     "output_type": "execute_result"
    }
   ],
   "source": [
    "Counter(phrases_count)"
   ]
  },
  {
   "cell_type": "markdown",
   "metadata": {},
   "source": [
    "We have 173437 phrasal concepts. 120751 of them consist of two words. The rest consist of three or more words.\n",
    "\n",
    "Here we simply split each phrasal concepts, and replace '_' with an edge of label 'p' (meaning phrase)"
   ]
  },
  {
   "cell_type": "code",
   "execution_count": 172,
   "metadata": {},
   "outputs": [],
   "source": [
    "from collections import defaultdict"
   ]
  },
  {
   "cell_type": "code",
   "execution_count": 170,
   "metadata": {},
   "outputs": [],
   "source": [
    "# one iteration to extract all in-neighbors and out-neighbors of phrases\n",
    "p_in_dict = defaultdict(list)\n",
    "p_out_dict = defaultdict(list)\n",
    "for _,row in net.iterrows():\n",
    "    if ('_' in row['end']):\n",
    "        p_in_dict[row['end']].append((row['start'], row['relation'])) \n",
    "    if ('_' in row['start']):\n",
    "        p_out_dict[row['start']].append((row['end'], row['relation'])) "
   ]
  },
  {
   "cell_type": "code",
   "execution_count": 183,
   "metadata": {},
   "outputs": [],
   "source": [
    "count = 0\n",
    "add_dict = defaultdict(list) # the additional edges\n",
    "for p in phrases:\n",
    "    p_split = p.split('_')\n",
    "    \n",
    "    # the underline in the phrase is substituted by len(p_split) - 1 edges with label 'p'\n",
    "    add_dict['relation'].extend(['p' for i in p_split[1:]]) \n",
    "    add_dict['start'].extend(p_split[:-1])\n",
    "    add_dict['end'].extend(p_split[1:])\n",
    "    \n",
    "    # the in neighbors and out neighbors of phrases\n",
    "    in_nei, in_rel = list(zip(*p_in_dict[p])) if len(p_in_dict[p]) != 0 else ([], [])\n",
    "    out_nei, out_rel = list(zip(*p_out_dict[p])) if len(p_out_dict[p]) != 0 else ([], [])\n",
    "    \n",
    "    # the last word of each in-neighbor is directed to the first word of the phrase\n",
    "    add_dict['relation'].extend(in_rel)\n",
    "    add_dict['start'].extend([w.split('_')[-1] for w in in_nei])\n",
    "    add_dict['end'].extend([p_split[0] for i in in_rel])\n",
    "    \n",
    "    # the last word of the phrase is directed to the first word of each out-neighbor\n",
    "    add_dict['relation'].extend(out_rel)\n",
    "    add_dict['start'].extend([p_split[-1] for i in out_rel])\n",
    "    add_dict['end'].extend([w.split('_')[0] for w in out_nei])   "
   ]
  },
  {
   "cell_type": "code",
   "execution_count": 184,
   "metadata": {},
   "outputs": [],
   "source": [
    "add_df = pd.DataFrame.from_dict(add_dict)"
   ]
  },
  {
   "cell_type": "markdown",
   "metadata": {},
   "source": [
    "Use similar data cleaning tools."
   ]
  },
  {
   "cell_type": "code",
   "execution_count": 188,
   "metadata": {},
   "outputs": [
    {
     "name": "stdout",
     "output_type": "stream",
     "text": [
      "(766376, 4)\n",
      "(753832, 4)\n"
     ]
    }
   ],
   "source": [
    "add_df['weight'] = 1.0\n",
    "add_df.drop_duplicates(inplace = True)\n",
    "print(add_df.shape)\n",
    "add_df = add_df.drop(add_df.loc[add_df['start'] == add_df['end']].index)\n",
    "print(add_df.shape)"
   ]
  },
  {
   "cell_type": "code",
   "execution_count": 189,
   "metadata": {},
   "outputs": [],
   "source": [
    "new_net = net.append(add_df, ignore_index=True)"
   ]
  },
  {
   "cell_type": "code",
   "execution_count": 194,
   "metadata": {},
   "outputs": [],
   "source": [
    "new_net.drop_duplicates(subset = ['relation', 'start', 'end'], inplace = True)"
   ]
  },
  {
   "cell_type": "code",
   "execution_count": 195,
   "metadata": {},
   "outputs": [
    {
     "data": {
      "text/plain": [
       "(2955994, 4)"
      ]
     },
     "execution_count": 195,
     "metadata": {},
     "output_type": "execute_result"
    }
   ],
   "source": [
    "new_net.shape"
   ]
  },
  {
   "cell_type": "code",
   "execution_count": 196,
   "metadata": {},
   "outputs": [
    {
     "data": {
      "text/plain": [
       "601623"
      ]
     },
     "execution_count": 196,
     "metadata": {},
     "output_type": "execute_result"
    }
   ],
   "source": [
    "len(set(new_net['start']))"
   ]
  },
  {
   "cell_type": "code",
   "execution_count": 198,
   "metadata": {},
   "outputs": [],
   "source": [
    "new_net.to_csv('new_concept_net.csv')"
   ]
  },
  {
   "cell_type": "code",
   "execution_count": null,
   "metadata": {},
   "outputs": [],
   "source": []
  }
 ],
 "metadata": {
  "kernelspec": {
   "display_name": "Python 3",
   "language": "python",
   "name": "python3"
  },
  "language_info": {
   "codemirror_mode": {
    "name": "ipython",
    "version": 3
   },
   "file_extension": ".py",
   "mimetype": "text/x-python",
   "name": "python",
   "nbconvert_exporter": "python",
   "pygments_lexer": "ipython3",
   "version": "3.7.3"
  }
 },
 "nbformat": 4,
 "nbformat_minor": 2
}
